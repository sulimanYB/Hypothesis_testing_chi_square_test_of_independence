{
 "cells": [
  {
   "cell_type": "code",
   "execution_count": 1,
   "metadata": {},
   "outputs": [],
   "source": [
    "import pandas as pd\n",
    "import numpy as np\n",
    "from scipy.stats import norm, t\n",
    "from statsmodels.stats.proportion import proportions_ztest\n",
    "import pingouin\n",
    "import matplotlib.pyplot as plt"
   ]
  },
  {
   "cell_type": "markdown",
   "metadata": {},
   "source": [
    "### Read data"
   ]
  },
  {
   "cell_type": "code",
   "execution_count": 2,
   "metadata": {},
   "outputs": [],
   "source": [
    "late_shipments = pd.read_feather(r\"..\\data\\late_shipments.feather\")  \n",
    "late_shipments = late_shipments[late_shipments[\"vendor_inco_term\"] != \"DDU\"]"
   ]
  },
  {
   "cell_type": "markdown",
   "metadata": {},
   "source": [
    "### Hypotheses\n",
    "\n",
    "Trade deals often use a form of business shorthand in order to specify the exact details of their contract. These are International Chamber of Commerce (ICC) international commercial terms, or incoterms for short.\n",
    "\n",
    "The late_shipments dataset includes a vendor_inco_term that describes the incoterms that applied to a given shipment. The choices are:\n",
    "\n",
    "* EXW: \"Ex works\". The buyer pays for transportation of the goods.\n",
    "* CIP: \"Carriage and insurance paid to\". The seller pays for freight and insurance until the goods board a ship.\n",
    "* DDP: \"Delivered duty paid\". The seller pays for transportation of the goods until they reach a destination port.\n",
    "* FCA: \"Free carrier\". The seller pays for transportation of the goods.\n",
    "\n",
    "\n",
    "Perhaps the incoterms affect whether or not the freight costs are expensive. Test these hypotheses with a significance level of 0.01.\n",
    "\n",
    "* H0: vendor_inco_term and freight_cost_group are independent.\n",
    "\n",
    "* HA: vendor_inco_term and freight_cost_group are associated.\n",
    "\n"
   ]
  },
  {
   "cell_type": "code",
   "execution_count": 3,
   "metadata": {},
   "outputs": [],
   "source": [
    "alpha = 0.01"
   ]
  },
  {
   "cell_type": "code",
   "execution_count": 4,
   "metadata": {},
   "outputs": [
    {
     "data": {
      "text/html": [
       "<div>\n",
       "<style scoped>\n",
       "    .dataframe tbody tr th:only-of-type {\n",
       "        vertical-align: middle;\n",
       "    }\n",
       "\n",
       "    .dataframe tbody tr th {\n",
       "        vertical-align: top;\n",
       "    }\n",
       "\n",
       "    .dataframe thead th {\n",
       "        text-align: right;\n",
       "    }\n",
       "</style>\n",
       "<table border=\"1\" class=\"dataframe\">\n",
       "  <thead>\n",
       "    <tr style=\"text-align: right;\">\n",
       "      <th></th>\n",
       "      <th>id</th>\n",
       "      <th>country</th>\n",
       "      <th>managed_by</th>\n",
       "      <th>fulfill_via</th>\n",
       "      <th>vendor_inco_term</th>\n",
       "      <th>shipment_mode</th>\n",
       "      <th>late_delivery</th>\n",
       "      <th>late</th>\n",
       "      <th>product_group</th>\n",
       "      <th>sub_classification</th>\n",
       "      <th>...</th>\n",
       "      <th>line_item_quantity</th>\n",
       "      <th>line_item_value</th>\n",
       "      <th>pack_price</th>\n",
       "      <th>unit_price</th>\n",
       "      <th>manufacturing_site</th>\n",
       "      <th>first_line_designation</th>\n",
       "      <th>weight_kilograms</th>\n",
       "      <th>freight_cost_usd</th>\n",
       "      <th>freight_cost_groups</th>\n",
       "      <th>line_item_insurance_usd</th>\n",
       "    </tr>\n",
       "  </thead>\n",
       "  <tbody>\n",
       "    <tr>\n",
       "      <th>0</th>\n",
       "      <td>36203.0</td>\n",
       "      <td>Nigeria</td>\n",
       "      <td>PMO - US</td>\n",
       "      <td>Direct Drop</td>\n",
       "      <td>EXW</td>\n",
       "      <td>Air</td>\n",
       "      <td>1.0</td>\n",
       "      <td>Yes</td>\n",
       "      <td>HRDT</td>\n",
       "      <td>HIV test</td>\n",
       "      <td>...</td>\n",
       "      <td>2996.0</td>\n",
       "      <td>266644.0</td>\n",
       "      <td>89.0</td>\n",
       "      <td>0.89</td>\n",
       "      <td>Alere Medical Co., Ltd.</td>\n",
       "      <td>Yes</td>\n",
       "      <td>1426.0</td>\n",
       "      <td>33279.83</td>\n",
       "      <td>expensive</td>\n",
       "      <td>373.83</td>\n",
       "    </tr>\n",
       "    <tr>\n",
       "      <th>1</th>\n",
       "      <td>30998.0</td>\n",
       "      <td>Botswana</td>\n",
       "      <td>PMO - US</td>\n",
       "      <td>Direct Drop</td>\n",
       "      <td>EXW</td>\n",
       "      <td>Air</td>\n",
       "      <td>0.0</td>\n",
       "      <td>No</td>\n",
       "      <td>HRDT</td>\n",
       "      <td>HIV test</td>\n",
       "      <td>...</td>\n",
       "      <td>25.0</td>\n",
       "      <td>800.0</td>\n",
       "      <td>32.0</td>\n",
       "      <td>1.60</td>\n",
       "      <td>Trinity Biotech, Plc</td>\n",
       "      <td>Yes</td>\n",
       "      <td>10.0</td>\n",
       "      <td>559.89</td>\n",
       "      <td>reasonable</td>\n",
       "      <td>1.72</td>\n",
       "    </tr>\n",
       "    <tr>\n",
       "      <th>2</th>\n",
       "      <td>69871.0</td>\n",
       "      <td>Vietnam</td>\n",
       "      <td>PMO - US</td>\n",
       "      <td>Direct Drop</td>\n",
       "      <td>EXW</td>\n",
       "      <td>Air</td>\n",
       "      <td>0.0</td>\n",
       "      <td>No</td>\n",
       "      <td>ARV</td>\n",
       "      <td>Adult</td>\n",
       "      <td>...</td>\n",
       "      <td>22925.0</td>\n",
       "      <td>110040.0</td>\n",
       "      <td>4.8</td>\n",
       "      <td>0.08</td>\n",
       "      <td>Hetero Unit III Hyderabad IN</td>\n",
       "      <td>Yes</td>\n",
       "      <td>3723.0</td>\n",
       "      <td>19056.13</td>\n",
       "      <td>expensive</td>\n",
       "      <td>181.57</td>\n",
       "    </tr>\n",
       "  </tbody>\n",
       "</table>\n",
       "<p>3 rows × 27 columns</p>\n",
       "</div>"
      ],
      "text/plain": [
       "        id   country managed_by  fulfill_via vendor_inco_term shipment_mode  \\\n",
       "0  36203.0   Nigeria   PMO - US  Direct Drop              EXW           Air   \n",
       "1  30998.0  Botswana   PMO - US  Direct Drop              EXW           Air   \n",
       "2  69871.0   Vietnam   PMO - US  Direct Drop              EXW           Air   \n",
       "\n",
       "   late_delivery late product_group sub_classification  ...  \\\n",
       "0            1.0  Yes          HRDT           HIV test  ...   \n",
       "1            0.0   No          HRDT           HIV test  ...   \n",
       "2            0.0   No           ARV              Adult  ...   \n",
       "\n",
       "  line_item_quantity line_item_value pack_price unit_price  \\\n",
       "0             2996.0        266644.0       89.0       0.89   \n",
       "1               25.0           800.0       32.0       1.60   \n",
       "2            22925.0        110040.0        4.8       0.08   \n",
       "\n",
       "             manufacturing_site first_line_designation  weight_kilograms  \\\n",
       "0       Alere Medical Co., Ltd.                    Yes            1426.0   \n",
       "1          Trinity Biotech, Plc                    Yes              10.0   \n",
       "2  Hetero Unit III Hyderabad IN                    Yes            3723.0   \n",
       "\n",
       "   freight_cost_usd  freight_cost_groups  line_item_insurance_usd  \n",
       "0          33279.83            expensive                   373.83  \n",
       "1            559.89           reasonable                     1.72  \n",
       "2          19056.13            expensive                   181.57  \n",
       "\n",
       "[3 rows x 27 columns]"
      ]
     },
     "execution_count": 4,
     "metadata": {},
     "output_type": "execute_result"
    }
   ],
   "source": [
    "late_shipments.head(3)"
   ]
  },
  {
   "cell_type": "code",
   "execution_count": 5,
   "metadata": {},
   "outputs": [
    {
     "name": "stdout",
     "output_type": "stream",
     "text": [
      "freight_cost_groups  expensive  reasonable\n",
      "vendor_inco_term                          \n",
      "CIP                   0.320000    0.680000\n",
      "DDP                   0.550000    0.450000\n",
      "EXW                   0.583448    0.416552\n",
      "FCA                   0.336364    0.663636\n"
     ]
    },
    {
     "data": {
      "image/png": "[encoded data removed]",
      "text/plain": [
       "<Figure size 640x480 with 1 Axes>"
      ]
     },
     "metadata": {},
     "output_type": "display_data"
    }
   ],
   "source": [
    "# Proportion of freight_cost_group grouped by vendor_inco_term\n",
    "props = late_shipments.groupby('vendor_inco_term')['freight_cost_groups'].value_counts(normalize=True)\n",
    "\n",
    "# Convert props to wide format\n",
    "wide_props = props.unstack()\n",
    "\n",
    "# Print wide_props\n",
    "print(wide_props)\n",
    "\n",
    "# Proportional stacked bar plot of freight_cost_group vs. vendor_inco_term\n",
    "#fig, ax = plt.subplots()\n",
    "ax = wide_props.plot(kind='bar', stacked=True)\n",
    "ax.spines.right.set_visible(False)\n",
    "ax.spines.top.set_visible(False)\n",
    "ax.legend([\"Expensive\", \"Reasonable\"], bbox_to_anchor=(1.0, 1.0), frameon=False)\n",
    "ax.set_title(\"Proportional stacked bar plot of freight_cost_group vs. vendor_inco_term\",color='black')\n",
    "ax.set_xlabel(\"Incoterms\")\n",
    "ax.set_ylabel(\"Proportion\")\n",
    "plt.xticks(rotation=0)\n",
    "plt.show()"
   ]
  },
  {
   "cell_type": "markdown",
   "metadata": {},
   "source": [
    "The _chi-square independence test_ compares proportions of successes of one categorical variable across groups of another categorical variable."
   ]
  },
  {
   "cell_type": "code",
   "execution_count": 6,
   "metadata": {},
   "outputs": [
    {
     "name": "stdout",
     "output_type": "stream",
     "text": [
      "      test  lambda     chi2  dof          pval    cramer     power\n",
      "0  pearson     1.0  33.6426  3.0  2.357026e-07  0.183511  0.999424\n",
      "The p-value is:2.3570258196712344e-07\n",
      "p_value <= alpha (0.01). \n",
      "Reject the null hypothesis and conclude that vendor_inco_term and freight_cost_group are associated.\n"
     ]
    }
   ],
   "source": [
    "# Determine if freight_cost_group and vendor_inco_term are independent\n",
    "expected, observed, stats = pingouin.chi2_independence(data=late_shipments, \n",
    "                                                       x='vendor_inco_term', \n",
    "                                                       y='freight_cost_groups')\n",
    "\n",
    "# Print results\n",
    "print(stats[stats['test'] == 'pearson']) \n",
    "p_value = stats[stats['test'] == 'pearson'][\"pval\"][0]\n",
    "print(\"The p-value is:{}\".format(p_value))\n",
    "\n",
    "if p_value <= alpha:\n",
    "    print(\"p_value <= alpha ({}). \\nReject the null hypothesis and conclude that vendor_inco_term and freight_cost_group are associated.\".format(alpha))\n",
    "else:\n",
    "    print(\"Failed to reject H0\")"
   ]
  }
 ],
 "metadata": {
  "kernelspec": {
   "display_name": "base",
   "language": "python",
   "name": "python3"
  },
  "language_info": {
   "codemirror_mode": {
    "name": "ipython",
    "version": 3
   },
   "file_extension": ".py",
   "mimetype": "text/x-python",
   "name": "python",
   "nbconvert_exporter": "python",
   "pygments_lexer": "ipython3",
   "version": "3.11.3"
  }
 },
 "nbformat": 4,
 "nbformat_minor": 2
}
